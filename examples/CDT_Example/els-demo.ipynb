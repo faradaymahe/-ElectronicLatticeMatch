{
 "cells": [
  {
   "cell_type": "markdown",
   "metadata": {},
   "source": [
    "# The substrate matching procedure\n",
    "\n",
    "This practical is based on the concepts introduced for contacting in photovoltaic cells. The procedure was published in 2016 in J. Mater. Chem. C, you can find the article [here](http://pubs.rsc.org/en/content/articlehtml/2016/tc/c5tc04091d).\n",
    "\n",
    "In this practical we do a screening for good contact materials for an absorber layer. There are three main steps:\n",
    "* Electronic matching of band energies.\n",
    "* Lattice matching of surface vectors. \n",
    "\n",
    "\n",
    "## Load up the module\n",
    "\n",
    "The `els` module should be in your directory. If you do wish use it in future, you can always find it [on github](https://github.com/keeeto/ElectronicLatticeMatch)\n",
    "\n",
    "Now let's load the module.\n"
   ]
  },
  {
   "cell_type": "code",
   "execution_count": 1,
   "metadata": {
    "collapsed": false
   },
   "outputs": [],
   "source": [
    "import els as els"
   ]
  },
  {
   "cell_type": "markdown",
   "metadata": {},
   "source": [
    "# Electronic matching\n",
    "## Background\n",
    "\n",
    "Good contacts require a low barrier to electronic transport at the interface. This barrier is exponential in the discontinuity of the band energies across the interface. To a first approximation the offset or discontinuity can be estimated by comparing the ionisation potentials (IPs) or electron affinities (EAs) of the two materials, this is known as [Anderson's rule](https://en.wikipedia.org/wiki/Anderson%27s_rule).\n",
    "\n",
    "\n",
    "Here we have collected a database of 173 measured or estimated semiconductor IPs and EAs (`CollatedData.txt`). We use it as the first step in our screening. **Note** make sure that you download this data file when you download the `els` code. \n",
    "\n",
    "## The function\n",
    "\n",
    "The alignment is done by a function called `energy_align`. \n",
    "\n",
    "### Inputs:\n",
    "* Ionisation potential of the absorber\n",
    "* Electron affinity of the absorber\n",
    "* The window allowed for the offest (this means that the bands can be aligned within `+/- 0.5*window`). This is set to 0.6 eV by default.\n",
    "* The maximum band gap of the contact. If a material has a very wide band gap it can be too insulating to be a contact. You can set the maximum gap, if conductivity is a big concern. The default value is 3.0 eV.\n",
    "\n",
    "### Outputs:\n",
    "* A list of electron transport layers.\n",
    "* A list of hole transport layers.\n",
    "\n",
    "you can call the module by `ETL, HTL = els.energy_align(6.0, 4.0)`\n",
    "\n",
    "<div class=\"alert alert-success\"> \n",
    "## Question 1 \n",
    "What layers result from the alignment above?"
   ]
  },
  {
   "cell_type": "code",
   "execution_count": 14,
   "metadata": {
    "collapsed": true
   },
   "outputs": [],
   "source": []
  },
  {
   "cell_type": "markdown",
   "metadata": {},
   "source": [
    "<div class=\"alert alert-success\"> \n",
    "\n",
    "## Question 2\n",
    "What are the possible HTLs and ETLs for CdTe?\n",
    "\n",
    "* IP = 5.93 eV\n",
    "* EA = 4.23 eV\n"
   ]
  },
  {
   "cell_type": "code",
   "execution_count": 14,
   "metadata": {
    "collapsed": false
   },
   "outputs": [],
   "source": []
  },
  {
   "cell_type": "markdown",
   "metadata": {},
   "source": [
    "# Lattice matching\n",
    "## Background\n",
    "\n",
    "For good stable interfaces there must be some integer relation between the lattice constants of the two surfaces, which allows for perfect matching, with minimal strain. Generally a strain value of ~ 3% is considered acceptable, above this the interface will be coherent.\n",
    "\n",
    "This section uses the [ASE package](https://wiki.fysik.dtu.dk/ase/) to help to construct the low index surfaces of the materials identified in the electronic step, as well as those of the target material. The code `LatticeMatch.py` to identify good matches.\n",
    "\n",
    "First we need `.cif` files of the materials obtained from the electronic matching. These are obtained from the [Materials Project website](https://www.materialsproject.org).\n",
    "\n",
    "Most of the `.cif` files are there already, but we should get down Cu$_2$O and GaN, just for practice.\n",
    "\n",
    "## Lattice matching routine\n",
    "\n",
    "The lattice matching routine involves obtaining reduced cells for each surface and looking for multiples of each side which match. The procedure is described in more detail in [our paper](http://pubs.rsc.org/en/content/articlehtml/2016/tc/c5tc04091d).\n",
    "\n",
    "\n",
    "\n",
    "The actual clever stuff of the algorithm comes from a paper from Zur and McGill from 1984, in [J. Appl. Physics](http://scitation.aip.org/content/aip/journal/jap/55/2/10.1063/1.333084).\n",
    "\n",
    "## The function\n",
    "\n",
    "The function is called `epitaxy_search`.\n",
    "\n",
    "### Inputs:\n",
    "* Crystal structure of A\n",
    "* Miller index of A\n",
    "* Crystal structure of B\n",
    "* Miller index of B\n",
    "* Maximum strain allowed (fraction 1.0 = 100%). Default = 0.05 (5%).\n",
    "* Maximum number of supercell expansions allowed. Default = 5.\n",
    "\n",
    "### Outputs:\n",
    "* A Boolean telling you if epitaxial relations were found or not.\n",
    "* The supercell expansions of surface A required.\n",
    "* The supercell expansions of surface B required.\n",
    "* The surface strains (u,v,angle).\n",
    "\n",
    "### Reading in crystal structures \n",
    "\n",
    "To do this we use `ASE`. We must first import the `ASE` input/output routines.\n",
    "\n",
    "    import ase.io as io"
   ]
  },
  {
   "cell_type": "code",
   "execution_count": 15,
   "metadata": {
    "collapsed": true
   },
   "outputs": [],
   "source": [
    "import ase.io as io"
   ]
  },
  {
   "cell_type": "markdown",
   "metadata": {},
   "source": [
    "Now read in a crystal structure. There are a number of `.cif` files in the directory `structures`. Let's load CdTe.\n",
    "\n",
    "    cdte = io.read('structures/CdTe.cif')"
   ]
  },
  {
   "cell_type": "code",
   "execution_count": 16,
   "metadata": {
    "collapsed": true
   },
   "outputs": [],
   "source": [
    "cdte = io.read('structures/CdTe.cif')"
   ]
  },
  {
   "cell_type": "markdown",
   "metadata": {},
   "source": [
    "<div class=\"alert alert-success\"> \n",
    "## Question 3\n",
    "\n",
    "### Lattice matching CdTe to CdS\n",
    "\n",
    "Now read in one of the contact layers identified earlier; CdS."
   ]
  },
  {
   "cell_type": "code",
   "execution_count": 16,
   "metadata": {
    "collapsed": true
   },
   "outputs": [],
   "source": []
  },
  {
   "cell_type": "markdown",
   "metadata": {},
   "source": [
    "Search for epitaxial relations between the (111) surfaces of both materials.\n",
    "\n",
    "    epitaxy, scA, scB, strains = els.epitaxy_search(cdte, [1,1,1], cds, [1,1,1], tolerance=0.03, limit=10)\n",
    "    \n",
    "* Is there epitaxy?\n",
    "* How much strain is there?\n",
    "* What happens if you are only allowing 5 supercell expansions on each side?"
   ]
  },
  {
   "cell_type": "code",
   "execution_count": 18,
   "metadata": {
    "collapsed": false
   },
   "outputs": [],
   "source": []
  },
  {
   "cell_type": "markdown",
   "metadata": {},
   "source": [
    "### Non-polar surfaces!\n",
    "\n",
    "The (111) surface is polar. The Wurtzite structure of CdTe and CdS has non polar surfaces in both the (100) and (110) directions. \n",
    "\n",
    "<div class=\"alert alert-success\"> \n",
    "\n",
    "## Question 4\n",
    "Can you construct a loop to try to match all possible pairs of these surfces, using the criteria above (10 expansions)?\n",
    "\n",
    "* Which of the pairings match?\n",
    "* Which has the lowest strain?\n",
    "* Which requires the fewest expansions?"
   ]
  },
  {
   "cell_type": "code",
   "execution_count": 18,
   "metadata": {
    "collapsed": false
   },
   "outputs": [],
   "source": [
    "     "
   ]
  },
  {
   "cell_type": "markdown",
   "metadata": {},
   "source": [
    "<div class=\"alert alert-success\"> \n",
    "\n",
    "## Question 5\n",
    "### Screening\n",
    "\n",
    "Try to construct a search of all non-polar surfaces of CdTe against the (100) and (110) surface of all of the identified hole transport layers."
   ]
  },
  {
   "cell_type": "code",
   "execution_count": 18,
   "metadata": {
    "collapsed": false
   },
   "outputs": [],
   "source": []
  }
 ],
 "metadata": {
  "kernelspec": {
   "display_name": "Python 2",
   "language": "python",
   "name": "python2"
  },
  "language_info": {
   "codemirror_mode": {
    "name": "ipython",
    "version": 2
   },
   "file_extension": ".py",
   "mimetype": "text/x-python",
   "name": "python",
   "nbconvert_exporter": "python",
   "pygments_lexer": "ipython2",
   "version": "2.7.9"
  }
 },
 "nbformat": 4,
 "nbformat_minor": 0
}
